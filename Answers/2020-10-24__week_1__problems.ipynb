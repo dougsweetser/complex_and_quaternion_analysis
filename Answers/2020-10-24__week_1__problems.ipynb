{
 "cells": [
  {
   "cell_type": "markdown",
   "metadata": {},
   "source": [
    "# Week 1 Problems"
   ]
  },
  {
   "cell_type": "code",
   "execution_count": null,
   "metadata": {},
   "outputs": [],
   "source": [
    "%%capture\n",
    "%matplotlib inline\n",
    "import numpy as np\n",
    "import sympy as sp\n",
    "import matplotlib.pyplot as plt\n",
    "\n",
    "# To get equations the look like, well, equations, use the following.\n",
    "from sympy.interactive import printing\n",
    "printing.init_printing(use_latex=True)\n",
    "from IPython.display import display\n",
    "\n",
    "# Tools for manipulating quaternions.\n",
    "from Qs import *\n",
    "\n",
    "from IPython.core.display import display, HTML, Math, Latex\n",
    "display(HTML(\"<style>.container { width:100% !important; }</style>\"))"
   ]
  },
  {
   "cell_type": "markdown",
   "metadata": {},
   "source": [
    "## Problem 1.3 Functions\n",
    "\n",
    "Question (i): Determine the images of the line $Im z = 1$ under the map $z \\rightarrow \\omega(z) = z^3 + 3 z -i$. The images is characterized by the following function: \n",
    "\n",
    "$$ ___ = ___ + 3 | ___ | ^ {___}$$ \n",
    "\n",
    "where the values of the blanks are in $(1, 2, -1 -2, \\rm{Im} \\,\\omega, \\rm{Re} \\,\\omega, 3/2, 2/3)$."
   ]
  },
  {
   "cell_type": "markdown",
   "metadata": {},
   "source": [
    "$z = (x, 1)$."
   ]
  },
  {
   "cell_type": "code",
   "execution_count": null,
   "metadata": {},
   "outputs": [],
   "source": [
    "x = sp.symbols(\"x\")\n",
    "z = Q([x, 1, 0, 0])\n",
    "z.print_state(\"z\")"
   ]
  },
  {
   "cell_type": "code",
   "execution_count": null,
   "metadata": {},
   "outputs": [],
   "source": [
    "# FAILS: q_2_q(z, q1(3)).print_state(\"z³\")\n",
    "\n",
    "z3 = product(product(z, z), z).simple_q()\n",
    "z3.display_q(\"z³\")"
   ]
  },
  {
   "cell_type": "code",
   "execution_count": null,
   "metadata": {},
   "outputs": [],
   "source": [
    "ω_z = dif(add(z3, product(z, q1(3))), qi()).simple_q()\n",
    "ω_z.display_q(\"ω(z)\")"
   ]
  },
  {
   "cell_type": "code",
   "execution_count": null,
   "metadata": {},
   "outputs": [],
   "source": [
    "Re_ω = scalar_q(ω_z)\n",
    "Re_ω.display_q(\"Re(ω)\")"
   ]
  },
  {
   "cell_type": "code",
   "execution_count": null,
   "metadata": {},
   "outputs": [],
   "source": [
    "Im_ω = vector_q(ω_z)\n",
    "Im_ω.display_q(\"Im(ω)\")"
   ]
  },
  {
   "cell_type": "markdown",
   "metadata": {},
   "source": [
    "Focus on creating Im_ω, $3 x^2 + 1$:\n",
    "\n",
    "$$ Im_ω = 1 + 3 | Re_ω | ^ 3/2 $$\n",
    "\n",
    "Correct."
   ]
  },
  {
   "cell_type": "markdown",
   "metadata": {},
   "source": [
    "Question (ii): Determine the images of a circle $|z - i| = 1$ under the map "
   ]
  },
  {
   "cell_type": "markdown",
   "metadata": {},
   "source": [
    "## Problem 1.4 Cauchy-Riemann conditions"
   ]
  },
  {
   "cell_type": "code",
   "execution_count": null,
   "metadata": {},
   "outputs": [],
   "source": [
    "t, R = sp.symbols(\"t R\")\n",
    "\n",
    "w_q = Q([t ** 2 - R **2, 2 * t * R, 0, 0])\n",
    "\n",
    "w_q.display_q(\"w(q)\")"
   ]
  },
  {
   "cell_type": "code",
   "execution_count": null,
   "metadata": {},
   "outputs": [],
   "source": [
    "u = scalar_q(w_q)\n",
    "V = vector_q(w_q)\n",
    "u.display_q(\"u\")\n",
    "V.display_q(\"V\")"
   ]
  },
  {
   "cell_type": "code",
   "execution_count": null,
   "metadata": {},
   "outputs": [],
   "source": [
    "dudt = sp.diff(u.t, t)\n",
    "display(dudt)\n",
    "dVdR = sp.diff(V.x, R)\n",
    "display(dVdR)"
   ]
  },
  {
   "cell_type": "code",
   "execution_count": null,
   "metadata": {},
   "outputs": [],
   "source": [
    "t, R = sp.symbols(\"t R\")\n",
    "\n",
    "w_q = inverse(Q([t, R, 0, 0]))\n",
    "\n",
    "w_q.display_q(\"w(q)\")"
   ]
  },
  {
   "cell_type": "code",
   "execution_count": null,
   "metadata": {},
   "outputs": [],
   "source": [
    "u = scalar_q(w_q)\n",
    "V = vector_q(w_q)\n",
    "u.display_q(\"u\")\n",
    "V.display_q(\"V\")"
   ]
  },
  {
   "cell_type": "code",
   "execution_count": null,
   "metadata": {},
   "outputs": [],
   "source": [
    "dudt = sp.simplify(sp.diff(u.t, t))\n",
    "display(dudt)\n",
    "dVdR = sp.diff(V.x, R)\n",
    "display(dVdR)"
   ]
  },
  {
   "cell_type": "code",
   "execution_count": null,
   "metadata": {},
   "outputs": [],
   "source": [
    "dudR = sp.diff(u.t, R)\n",
    "display(dudR)\n",
    "dVdt = sp.diff(V.x, t)\n",
    "display(dVdt)"
   ]
  },
  {
   "cell_type": "code",
   "execution_count": null,
   "metadata": {},
   "outputs": [],
   "source": []
  }
 ],
 "metadata": {
  "language_info": {
   "name": "python",
   "pygments_lexer": "ipython3"
  }
 },
 "nbformat": 4,
 "nbformat_minor": 4
}
