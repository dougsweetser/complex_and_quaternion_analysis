{
 "cells": [
  {
   "cell_type": "markdown",
   "metadata": {},
   "source": [
    "# Week 1 Lecture on Algebra & Representations, The Quaternion Variation"
   ]
  },
  {
   "cell_type": "markdown",
   "metadata": {},
   "source": [
    "D. Sweetser, sweetser@alum.mit.edu"
   ]
  },
  {
   "cell_type": "markdown",
   "metadata": {},
   "source": [
    "Mathematicians are correctly proud of their ability to work with abstractions. This allows their results to develop without concern for applications. Math has awesome reach."
   ]
  },
  {
   "cell_type": "markdown",
   "metadata": {},
   "source": [
    "I try to do mathematical physics as a hobby. The \"hobby\" part means I know I will never be able to write a technical paper on mathematics, physics, or mathematical physics. Authors require years of training in Ph.D. programs, and that time has passed for this 58-year-old software engineer."
   ]
  },
  {
   "cell_type": "markdown",
   "metadata": {},
   "source": [
    "I will define what I mean by \"mathematical physics\" as it is a variation on our current practice. I hope to make sure every mathematical operation has a physical interpretation. As an example, consider repetitive addition of quaternions, starting from zero and adding a real value of $1$ and $i$: $$(0, 0, 0, 0)\\\\(1, 1, 0, 0)\\\\(2, 2, 0, 0) \\\\ ...$$ The math looks boring, and it is. Physically, I interpret each one as **an event in space-time**. This means that **real numbers are time**, and the **three imaginaries are for 3D space**. These events are moving at a steady pace in a steady direction. To my eye, that looks like an inertial observer. Inertial observers play a centeral role in special relativity."
   ]
  },
  {
   "cell_type": "markdown",
   "metadata": {},
   "source": [
    "## Definition of commuting quaternions"
   ]
  },
  {
   "cell_type": "markdown",
   "metadata": {},
   "source": [
    "Commuting quaternions??? The **defining characteristic** of quaternions is that they do not commute. This is true, they do not commute _unless the two quaternions point in the same or opposite directions_. It sounds reasonable to suppose this is a rare case. It absolutely is rare for mathematicians. A mathematical physicist as defined above needs to consider how data is collected for quantum experiments. Invariably, the data is collected in a very specific and tiny spot in space. If a beam of particles is ever-so-slightly off, then the experimentalist will collect no data. If data collection requires exquisitely precision for pointing equipement, how is that reflected in the math? Also how is the arbitrariness of the location in 3D space reflected, since a 90 mirror reflection in the beam line will force one to move the collection equipment but not change the math.\n",
    "\n",
    "My proposal is to use a Capital $I$ to be a unit 3-vector that consistently points in some arbitrary direction for the duration of a data experiment. Every math operation will use this very same direction for $I$.\n",
    "\n",
    "No doubt there will be times when one or more directions will be required. To notate that situation, primes will be used, so $I \\ne I' \\ne I\"$ but $|I|^2 = |I'|^2  =|I\"|^2$. "
   ]
  },
  {
   "cell_type": "markdown",
   "metadata": {},
   "source": [
    "## Tuples and Capitalize imaginaries\n",
    "\n",
    "Over the years, I have consistently written quaternions as tuples as it maps more readily to python code. $$q = (t, x, y, z) \\equiv (t, R) \\equiv t + x i + y j + z k, t,x,y,z \\in \n",
    "\\mathbb{R}, I^2 = - I^0 $$  The capital $R$ points in the same direction as the tuple $(x, y, z)$ or $x i + j y + z k$. If there are two 3-vectors that point in different directions, the quote notation will be used, so $R \\ne R'$/ All notes from the class will be transposed: real $x \\rightarrow t$ since time is the scalar and imaginary $y \\rightarrow R$ for the 3-space vector. As much as practical, the 2 term notation will be used since it is easier for our modest brains to digest. Quaternion products in all its details are simple for computers to handle, but people are not computers."
   ]
  },
  {
   "cell_type": "markdown",
   "metadata": {},
   "source": [
    "## The Qs.py library"
   ]
  },
  {
   "cell_type": "markdown",
   "metadata": {},
   "source": [
    "This is a python library written by D. Sweetser. It can handle symbolic notation. The library was designed to handle only 4-tuples. Load the library adding a bit of code to make results look a little prettier."
   ]
  },
  {
   "cell_type": "code",
   "execution_count": null,
   "metadata": {},
   "outputs": [],
   "source": [
    "%%capture\n",
    "%matplotlib inline\n",
    "import numpy as np\n",
    "import sympy as sp\n",
    "import matplotlib.pyplot as plt\n",
    "\n",
    "# To get equations the look like, well, equations, use the following.\n",
    "from sympy.interactive import printing\n",
    "printing.init_printing(use_latex=True)\n",
    "from IPython.display import display\n",
    "\n",
    "# Tools for manipulating quaternions.\n",
    "from Qs import *\n",
    "\n",
    "from IPython.core.display import display, HTML, Math, Latex\n",
    "display(HTML(\"<style>.container { width:100% !important; }</style>\"))"
   ]
  },
  {
   "cell_type": "code",
   "execution_count": null,
   "metadata": {},
   "outputs": [],
   "source": [
    "t, R = sp.symbols(\"t R\")\n",
    "z = Q([t, R, 0, 0])\n",
    "scalar_q(z).print_state(\"Re(z)\")\n",
    "vector_q(z).print_state(\"Im(z)\")"
   ]
  },
  {
   "cell_type": "markdown",
   "metadata": {},
   "source": [
    "There is a reason I have not implemented the functions Re(z) and Im(z). The domain of these functions are the complex numbers while the range is the real numbers. All functions in the Qs.py library have a **domain of quaternions** and a **range as a (possible subset) of quaternions**. All the functions can necessarily be linked up as is. Human mathematicians are used to switching domains and ranges, it is part of training. Computers are computers. More important though is Nature is Nature. Nature does not change and is always able to do calculations. There is a consistency to Nature. One way to mimic that is to always have the same data structure for input as output. That idea is put into practice for Qs.py. Since this is not standard practice, the names of the functions are different to imply that, in this case scalar_q() and vector_q()."
   ]
  },
  {
   "cell_type": "markdown",
   "metadata": {},
   "source": [
    "The multiplication rule for commuting quaternions:"
   ]
  },
  {
   "cell_type": "code",
   "execution_count": null,
   "metadata": {},
   "outputs": [],
   "source": [
    "t1, t2, R1, R2 = sp.symbols(\"t1 t2 R1 R2\")\n",
    "z1 = Q([t1, R1, 0, 0])\n",
    "z2 = Q([t2, R2, 0, 0])\n",
    "z3 = product(z1, z2)\n",
    "z3.print_state(\"z1 z2\")\n",
    "scalar_q(z3).print_state(\"Re(z1 z2)\")\n",
    "vector_q(z3).print_state(\"Im(z1 z2)\")"
   ]
  },
  {
   "cell_type": "markdown",
   "metadata": {},
   "source": [
    "The rule for forming products is the same as complex numbers."
   ]
  },
  {
   "cell_type": "markdown",
   "metadata": {},
   "source": [
    "See what happens if the second term points in a different direction (z2')."
   ]
  },
  {
   "cell_type": "code",
   "execution_count": null,
   "metadata": {},
   "outputs": [],
   "source": [
    "z2p = Q([t2, 0, R2, 0])\n",
    "z3p = product(z1, z2p)\n",
    "z3p.print_state(\"z1 z2'\")\n",
    "scalar_q(z3p).print_state(\"Re(z1 z2')\")\n",
    "vector_q(z3p).print_state(\"Im(z1 z2')\")"
   ]
  },
  {
   "cell_type": "markdown",
   "metadata": {},
   "source": [
    "The scalar is not changed. The two possible scalar times the vector terms go to different places instead of being a sum. A new turn is generated, part of the cross product."
   ]
  },
  {
   "cell_type": "markdown",
   "metadata": {},
   "source": [
    "Demonstrate that commuting quaternions commute, but not when there is an $I$ and $I'$."
   ]
  },
  {
   "cell_type": "code",
   "execution_count": null,
   "metadata": {},
   "outputs": [],
   "source": [
    "z3_reversed = product(z2, z1)\n",
    "print(f\"z1 z2 - z2 z1 = 0?: {dif(z3, z3_reversed)}\")"
   ]
  },
  {
   "cell_type": "code",
   "execution_count": null,
   "metadata": {},
   "outputs": [],
   "source": [
    "z3p_reversed = product(z2p, z1)\n",
    "print(f\"z1 z2' - z2' z1 = 0?: {dif(z3p, z3p_reversed)}\")"
   ]
  },
  {
   "cell_type": "markdown",
   "metadata": {},
   "source": [
    "## Conjugates"
   ]
  },
  {
   "cell_type": "markdown",
   "metadata": {},
   "source": [
    "Algebraically, conjugates are one of the most useful tools for complex numbers. What do they mean physically? The imaginary changes sign.\n",
    "\n",
    "For commuting quaternions, the conjugate physically means all three spatial directions do a mirror reflection around the here-now origin."
   ]
  },
  {
   "cell_type": "code",
   "execution_count": null,
   "metadata": {},
   "outputs": [],
   "source": [
    "conj(z).print_state(\"z*\")"
   ]
  },
  {
   "cell_type": "markdown",
   "metadata": {},
   "source": [
    "Quaternions face a problem that does not appear for complex numbers. On the manifold $\\mathbb{R^2}$, all possible functions on that manifold can also be represented on the manifold $\\mathbb{C^1}$ using a combination of $z$ and $z^*$. The same is not possible for quaternions on the manifold $\\mathbb{R^4}$. Representing four degrees of freedom would require another pair of conjugates. Here is a simple way to do that using something I call the first and second conjugates."
   ]
  },
  {
   "cell_type": "code",
   "execution_count": null,
   "metadata": {},
   "outputs": [],
   "source": [
    "T, X, Y, Z = sp.symbols(\"T X Y Z\")\n",
    "TXYZ = Q([T, X, Y, Z])\n",
    "conj(TXYZ, 0).print_state(\"TXYZ*\")\n",
    "conj(TXYZ, 1).print_state(\"TXYZ*ⁱ\")\n",
    "conj(TXYZ, 2).print_state(\"TXYZ*²\")"
   ]
  },
  {
   "cell_type": "markdown",
   "metadata": {},
   "source": [
    "How is this done algebraically? One takes the conjate, as usual, but switches the signs of the scalar term and the first term by pre and post multiplying by $i$."
   ]
  },
  {
   "cell_type": "code",
   "execution_count": null,
   "metadata": {},
   "outputs": [],
   "source": [
    "conj(product(product(qi(), TXYZ), qi()), 0).print_state(\"(i q i)*\")"
   ]
  },
  {
   "cell_type": "markdown",
   "metadata": {},
   "source": [
    "The conjugate operator takes two arguments: the quaternion to conjugate and a number 0, 1, or 2 that specifies which term stays positive and which one is negative. There are two properties on conjugates one should check: that doing it twice returns leaves things unchanged, and that doing both is like doing each separately in reverse order (involutive anti-automorphism may be the jargon)."
   ]
  },
  {
   "cell_type": "code",
   "execution_count": null,
   "metadata": {},
   "outputs": [],
   "source": [
    "conj(conj(TXYZ, 0), 0).print_state(\"(TXYZ*)*\")\n",
    "conj(conj(TXYZ, 1), 1).print_state(\"(TXYZ*ⁱ)*ⁱ\")\n",
    "conj(conj(TXYZ, 2), 2).print_state(\"(TXYZ*²)²*\")"
   ]
  },
  {
   "cell_type": "code",
   "execution_count": null,
   "metadata": {},
   "outputs": [],
   "source": [
    "A, B, C, D = sp.symbols(\"A B C D\")\n",
    "ABCD = Q([A, B, C, D])\n",
    "conj_0_1_conj = conj(product(TXYZ, ABCD), 0)\n",
    "conj_0_2_conj_rev = product(conj(ABCD, 0), conj(TXYZ, 0))\n",
    "dif(conj_0_1_conj, conj_0_2_conj_rev).print_state(\"(q1 q2)* - q2* q1*\")"
   ]
  },
  {
   "cell_type": "code",
   "execution_count": null,
   "metadata": {},
   "outputs": [],
   "source": [
    "conj_1_1_conj = conj(product(TXYZ, ABCD), 1)\n",
    "conj_1_2_conj_rev = product(conj(ABCD, 1), conj(TXYZ, 1))\n",
    "dif(conj_1_1_conj, conj_1_2_conj_rev).print_state(\"(q1 q2)*ⁱ - q2*ⁱ q1*ⁱ\")"
   ]
  },
  {
   "cell_type": "markdown",
   "metadata": {},
   "source": [
    "Why did this fail for the first conjugate? Recall the factors if _i_ in the first conjugate definition, one before and after. When one forms q2*ⁱ q1*ⁱ, there will be an extra negative sign added. As such when forming that term, an extra factor of $-1$ needs to be included like so:"
   ]
  },
  {
   "cell_type": "code",
   "execution_count": null,
   "metadata": {},
   "outputs": [],
   "source": [
    "conj_1_1_conj = conj(product(TXYZ, ABCD), 1)\n",
    "conj_1_2_conj_rev = flip_sign(product(conj(ABCD, 1), conj(TXYZ, 1)))\n",
    "dif(conj_1_1_conj, conj_1_2_conj_rev).print_state(\"(q1 q2)*ⁱ + q2*ⁱ q1*ⁱ\")"
   ]
  },
  {
   "cell_type": "markdown",
   "metadata": {},
   "source": [
    "The same should happend apply for the second conjugate."
   ]
  },
  {
   "cell_type": "code",
   "execution_count": null,
   "metadata": {},
   "outputs": [],
   "source": [
    "conj_1_1_conj = conj(product(TXYZ, ABCD), 2)\n",
    "conj_1_2_conj_rev = flip_sign(product(conj(ABCD, 2), conj(TXYZ, 2)))\n",
    "dif(conj_1_1_conj, conj_1_2_conj_rev).print_state(\"(q1 q2)*² + q2*² q1*²\")"
   ]
  },
  {
   "cell_type": "markdown",
   "metadata": {},
   "source": [
    "For those that complain that there is necessarily nothing new with commuting quaternions, the first and second conjugates are tools that are not available in complex analysis. What the conjugates do is not treat space uniformily. There are many physical situations where space is constrained (not isotraphic) and one needs math tools that behave in a non-isotropyic way. One quaternion variation to play is whenever expressions with conjugates appear, see how the behave using the first and second conjugates."
   ]
  },
  {
   "cell_type": "markdown",
   "metadata": {},
   "source": [
    "Let's look at the product of a quaternion and each of its three conjugates."
   ]
  },
  {
   "cell_type": "code",
   "execution_count": null,
   "metadata": {},
   "outputs": [],
   "source": [
    "product(TXYZ, conj(TXYZ, 0)).print_state(\"q q*\")\n",
    "product(TXYZ, conj(TXYZ, 1)).print_state(\"q q*ⁱ\")\n",
    "product(TXYZ, conj(TXYZ, 2)).print_state(\"q q*²\")"
   ]
  },
  {
   "cell_type": "markdown",
   "metadata": {},
   "source": [
    "A quaternion multiplied by the conjugate results in the norm squared. The result has an equivalence relation with the real numbers. I say it this way because one quaternion times another results in a third quaternion. It should be noted why the 3-vector is zero. There are two reasons. The first is that $q^*$ points in the opposite direction of $q$. This means there are no cross products. The work of the three opposite signs is to eleminate all the symmetric terms. Together it means the three imaginary terms will necessarily be zero.\n",
    "\n",
    "In every technical presentation I have read, the product of $q q^*$ is presented as one number instead of four. I appreciate the convenience. My guiding principle in physics theory and programming to to be explicit, not implicit. I ask the reader not to follow my path but at least understand my motivation. To minimize confusion, The words norm and modulus are real numbers. I will use \"norm squared\" to mean a quaternion. This way the data structure for norm squared remains the same as all other operations in the Qs.ly library.\n",
    "\n",
    "What does the normed squared mean physically? Real numbers are time. The norm squared is a duration from the here-now origin. The norm squared is physically not a length."
   ]
  },
  {
   "cell_type": "markdown",
   "metadata": {},
   "source": [
    "## The Multiplicative Inverse aka Division"
   ]
  },
  {
   "cell_type": "markdown",
   "metadata": {},
   "source": [
    "I prefer to think about this operation using group theory terms. Multiplication has an inverse, and so the product is unity: $$q q^{-1} = 1$$. Quaternions are a normed division algebra. The norm of the product is the norm squared: $$q q^{-1} * 1/(q q*) = 1 $$. Note the norm squared will only equal zero if all the terms are zero. Zero still does not have a multiplicative inverse. By inspection of the equation above, we can conclude: $$q^{-1} = q^* 1/(q q^*)$$ "
   ]
  },
  {
   "cell_type": "code",
   "execution_count": null,
   "metadata": {},
   "outputs": [],
   "source": []
  }
 ],
 "metadata": {
  "language_info": {
   "name": "python",
   "pygments_lexer": "ipython3"
  }
 },
 "nbformat": 4,
 "nbformat_minor": 4
}
